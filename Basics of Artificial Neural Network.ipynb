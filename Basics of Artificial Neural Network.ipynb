{
 "cells": [
  {
   "cell_type": "markdown",
   "metadata": {},
   "source": [
    "# Basics of Artificial Neural Network\n",
    "\n",
    "> Harsh Shah, E-mail: harsh.shah@thep.lu.se\n",
    "\n",
    "> Department of Astronomy and Theoretical Physics, Lund University\n",
    "\n",
    "## Introduction\n",
    "For complex and repetative tasks advanced and swift computational technology is been used. Artificial neural network (**ANN**) is such data analysis technique. ANN is widely used in many research and technology fields. Voice recognition, image identification, language translation are few examples where ANN is employed. ANN is a parallel computational technique inspired from analogy of [biological neurons](https://en.wikipedia.org/wiki/Neuron) inside brain. This implies that ANN is simplified name of a large set of interlinked processing units, named as nodes or neurons. These nodes receive weighted information about input and process those weights to learn different features of the incoming signal and generate output. The regime of computation where ANN is used for data analysis is also known as machine learning.\n",
    "\n",
    "\n",
    "The basic idea of ANN is to provide a training data-set to the network to learn various aspects of the data-set. Once the network is trained its been validated against a test data-set where network tries to predict the output. Based upon the true prediction efficiency performance of the network can be obtained. **Supervised** and **unsupervised** are two major categories of machine learning. In supervised learning network is trained over a set of training data set and then its been tested against validation data. While in unsupervised technique, network is provided a data-set and meant to learn different features of the data by itself. Depending upon tasks in hand ANN can be classified in two categories.\n",
    "\n",
    "Category | Techniques |  Examples\n",
    "-------- | -------- | ----------\n",
    "Feed-forward network | MLP, regression | Classifications problems\n",
    "Recurcive network | CNN,RNN | Image recognization, sequence identification\n",
    "\n",
    "Simplified illustration of how ANN works can be seen as below:\n",
    "![](perceptron_node.png)\n",
    "<p align=\"center\"> Figure : Cartoon outline of ANN network strucuture </p>\n",
    "\n",
    "Hence, net input can be calculated as"
   ]
  },
  {
   "cell_type": "markdown",
   "metadata": {},
   "source": [
    "##### $$\n",
    "\\sum\\limits_{i=0}^{m} x_{i}* w_{i} = y_{i}\n",
    "$$\n",
    "\n",
    "The output is resultant of activation function applied on net input\n",
    "##### $$\n",
    "Y = F(y_i)\n",
    "$$"
   ]
  },
  {
   "cell_type": "markdown",
   "metadata": {},
   "source": [
    "Nodes act on weighted input and generate an output signal. The wight can be positive or negative depending upon input. There is also a biased input node independent of the inputs. It can be seen as input node marked as **1** in the figure above. This bias node multiplied with its weight used as a constant term. The function F(y) is called activation function. There are various types of activation functions.\n",
    "\n",
    "* Linear : F(y) = y\n",
    "* Threshold : F(y) = 0 y < 0; F(y) = 1 if y > 0\n",
    "* Logistic : F(y) = $\\frac{1}{1 + \\exp^{-y}}$\n",
    "* Hyperbolic : F(y) = $\\tanh(y)$"
   ]
  },
  {
   "cell_type": "markdown",
   "metadata": {},
   "source": [
    "In general every type of ANN has three main set of building blocks:\n",
    "1. Network Topology\n",
    "2. Weights and learning rate\n",
    "3. Activation Function"
   ]
  },
  {
   "cell_type": "markdown",
   "metadata": {},
   "source": [
    "### Network Topology\n",
    "Based upon flow of weights in the network, topology classified into two categories. Feed forward networks, where flow of weights is unidirectional and towards output. The another type is feed back networks. Here weights can be feed to previous layer of nodes or to the node itself. The network with more than one layer of nodes also considered as multi-layer ANN. It's not compulsory to connect all the nodes, some nodes can be skipped and a probability function can also be assigned for node skipping.\n",
    "![](feed-forward.png)\n",
    "$$ Figure : Feed-forward network $$\n",
    "![](rnn.gif)\n",
    "$$ Figure : Feed-back network $$"
   ]
  },
  {
   "cell_type": "markdown",
   "metadata": {},
   "source": [
    "### Adjusting weights or learning rate\n",
    "In supervised learning for each produced output difference between true value and network predicted output is considered as an error, if it's away from 0. These errors are then used to modify weight vectors.\n",
    "\n",
    "Learning rate of the network will define difference between two weight selections. Large value of learning rate allows network to chose more random values of consecutive weights. Smaller value restricts randomness in weigh selection. For larger value network training would be fast compared to smaller learning rate. But then it may be a probability that network may not find an optimal minimum of error function and efficiency would be low. On the other hand if learning rate is too small, network may end up into some local minimum and could not reach to global minimum of the error function. Hence, to improve network precision one has to choose an optimum value for learning rate.\n",
    "\n",
    "In the case of unsupervised learning network doesn't have any comparision to match with regarding generated output. Hence, in this type of ANNs network has to learn patterns and sequences by itself and modify its output signals.\n",
    "\n",
    "\n",
    "### Activation Fuction\n",
    "Activation functions are a mean to generate specific outputs. From the above mentioned examples of activation function one can see that activation functions bounds the output signals within certain range. Based upon this, network distinguishes various outputs and perform assigned tasks. There could be more than one activation functions in a network. One can set different activation function for different layers of the network.\n",
    "\n",
    "\n",
    "There are various types of error minimization functions just like there is variety in activation functions. \n",
    "In the network training, there is always a catch of over training. There could be multiple models of ANN to solve problems in hand. A network is considered as good network if validation error is lower then training error. Though it may not be always true. If network produces very small training error, but large validation error then such network is considered as over trained network.\n",
    "\n",
    "\n",
    "I haven't discussed mathematical details of error minimization, more advanced nodes like [LSTM](https://en.wikipedia.org/wiki/Long_short-term_memory) and much complex networks like [deep learning](https://en.wikipedia.org/wiki/Deep_learning). The field of ANN is huge and will become intrinsic part of our future day to day life and scientific research as _atificial intelligence_. "
   ]
  },
  {
   "cell_type": "markdown",
   "metadata": {},
   "source": [
    "With this very basics overview of ANN, below I will discuss two examples to show how ANN can be trained and what are the various parameters.\n",
    "\n",
    "Example 1 : In this example feed-forward network is trained to distinguish two classes of data. The data used here is Pima Indians dataset. There are two files one is used for training the network and another is used to validate network efficiency. The data set consists of 8 different parameters about patients and a definite output regarding whether patient is diabetic or not. Network will be trained over a set of data set where network will learn to distinguish diabetic and non diabetic patients. Then network is feed with unknown data set and it will predict the decease based upon given data set.\n",
    "\n",
    "Example 2: This example is of a more advanced network training named as Convolutional Neural Network([CNN](http://cs231n.github.io/convolutional-networks/)). In this example I have shown how various layers of the nodes learns about different specifications of given image. Here, I have used [MNIST](http://yann.lecun.com/exdb/mnist/) data set. I used a small set of data-set consists of hand written number 2 and number 3. The motto of this example is to get feeling about how different nodes in different layers try to learn different features of given input in this case of number 2 and 3. CNN is widely used for image recognition techniques. For fun with such technique please visit [fun](https://visual-recognition-demo.ng.bluemix.net/).\n",
    "\n",
    "Apart from usual libraries, to reproduce examples below user requires to install **keras**. [Keras](https://keras.io/) is a very efficient and widely used library for data analysis with machine learning. There are various sub libraries and functions within keras which called directly to be used as activation functions and error minimization functions."
   ]
  },
  {
   "cell_type": "markdown",
   "metadata": {},
   "source": [
    "## Example 1\n",
    "The cell below is import. In this cell I have defined all the libraries which are used in both of the examples.\n"
   ]
  },
  {
   "cell_type": "code",
   "execution_count": 23,
   "metadata": {},
   "outputs": [],
   "source": [
    "import numpy as np\n",
    "import scipy as sp\n",
    "import tensorflow as tf\n",
    "import time\n",
    "\n",
    "import keras\n",
    "from keras import metrics, regularizers\n",
    "from keras import backend as K\n",
    "from keras.layers import Activation, Dense, Dropout, Flatten, Input\n",
    "from keras.layers import Conv2D, MaxPooling2D\n",
    "from keras.layers import Lambda, concatenate\n",
    "#from keras.layers import LSTM, GRU, SimpleRNN\n",
    "\n",
    "from keras.models import Model, Sequential\n",
    "from keras.optimizers import SGD, Adam, RMSprop, Nadam\n",
    "\n",
    "#from sklearn.metrics import *\n",
    "\n",
    "import matplotlib.pyplot as plt\n",
    "import matplotlib as mpl\n",
    "\n",
    "#from tensorflow.python.client import device_lib\n",
    "\n",
    "# The size of the plots.\n",
    "mpl.rcParams['figure.figsize'] = (5,5)\n",
    "\n",
    "%matplotlib inline\n"
   ]
  },
  {
   "cell_type": "markdown",
   "metadata": {},
   "source": [
    "In the cell below a generalised model is defined with few default functions."
   ]
  },
  {
   "cell_type": "code",
   "execution_count": 24,
   "metadata": {
    "collapsed": true
   },
   "outputs": [],
   "source": [
    "def pipline(inp_dim,\n",
    "            n_nod,\n",
    "            act_fun = 'relu',\n",
    "            out_act_fun = 'sigmoid',\n",
    "            opt_method = 'Adam',\n",
    "            cost_fun = 'binary_crossentropy',\n",
    "            lr_rate = 0.01, \n",
    "            lambd = 0.0):\n",
    "    \n",
    "    lays = [inp_dim] + n_nod\n",
    "    \n",
    "    main_input = Input(shape=(inp_dim,), dtype='float32', name='main_input')\n",
    "    \n",
    "    X = main_input\n",
    "    for nod in n_nod:\n",
    "        X = Dense(nod, \n",
    "                  activation = act_fun,\n",
    "                  kernel_regularizer=regularizers.l2(lambd))(X)\n",
    "        \n",
    "    output = Dense(1, activation = out_act_fun )(X)\n",
    "    \n",
    "    method = getattr(keras.optimizers, opt_method)\n",
    "    \n",
    "    model =  Model(inputs=[main_input], outputs=[output])\n",
    "    model.compile(optimizer = method(lr = lr_rate),\n",
    "                  loss = cost_fun)   \n",
    "    \n",
    "    return model"
   ]
  },
  {
   "cell_type": "markdown",
   "metadata": {},
   "source": [
    "Here, below the statistics of network performance is been calculated. Since, we want binary output, classification boundary is chosen as 0.5. Output signal value above 0.5 will be considered as one class and below 0.5 will define another class."
   ]
  },
  {
   "cell_type": "code",
   "execution_count": 25,
   "metadata": {
    "collapsed": true
   },
   "outputs": [],
   "source": [
    "def stats_class(x = None, y = None, label = 'Training', modl = None):\n",
    "    \"\"\"\n",
    "    input :  \n",
    "             x = input\n",
    "             y = output\n",
    "             label = \"Provided text string\"\n",
    "             modl = the model\n",
    "             \n",
    "    output : \n",
    "             sensitivity = fraction of correctly classified positive cases\n",
    "             specificity = fraction of correctly classified negative cases\n",
    "             accuracy = fraction of correctly classified cases\n",
    "             loss = typically the cross-entropy error\n",
    "    \"\"\"\n",
    "    \n",
    "    def binary(y1):\n",
    "        y1[y1>.5] = 1.\n",
    "        y1[y1<= .5] = 0.        \n",
    "        return y1\n",
    "\n",
    "    y_pr = modl.predict(x, batch_size = x.shape[0], verbose=0).reshape(y.shape)\n",
    "                \n",
    "    nof_p, tp, nof_n, tn = [np.count_nonzero(k) for k in [y==1, y_pr[y==1.] > 0.5, y==0, y_pr[y==0.]<= 0.5]]\n",
    "    \n",
    "    sens = tp / nof_p\n",
    "    spec = tn / nof_n\n",
    "    acc = (tp + tn) / (len(y))\n",
    "    loss = modl.evaluate(x, y , batch_size =  x.shape[0], verbose=0)\n",
    "                \n",
    "    A = ['Accuracy', 'Sensitivity', 'Specificity', 'Loss']\n",
    "    B = [acc, sens, spec, loss]\n",
    "    \n",
    "    print('\\n#############  STATISTICS for {} Data ##############\\n'.format(label))\n",
    "    for r in zip(A,B):\n",
    "         print(*r, sep = '   ')\n",
    "    return print('\\n#########################################################\\n')  \n"
   ]
  },
  {
   "cell_type": "markdown",
   "metadata": {},
   "source": [
    "Please make sure of **pima-trn.csv** and **pima-val.csv** files are in the same directory as of this note-book.\n",
    "\n",
    "\n",
    "User can change following parameters in the **INPUT** section and re-run the cell and can observe their effects on accuracy and loss of the network's training and validation:\n",
    "1. n_nod: size of the network, eg [5] for a one hidden layer with 5 nodes and [5,3] for a two layer network with 5 and 3 hidden nodes each.\n",
    "2. act_fun: the activation function.\n",
    "    * 'linear'\n",
    "    * 'relu'\n",
    "    * 'tanh'\n",
    "    * 'sigmoid'\n",
    "        \n",
    "3. out_act_fun: the activation function for the output nodes.\n",
    "    * 'linear'\n",
    "    * 'sigmoid'\n",
    "    * 'softmax'\n",
    "    \n",
    "4. opt_method: The error minimization method.\n",
    "    * 'SGD'\n",
    "    * 'Adam'\n",
    "    * 'Nadam'\n",
    "    * 'RMSprop'\n",
    "    \n",
    "5. cost_fun: The error function used during training.\n",
    "    * 'mean_squared_error' as mse\n",
    "    * 'binary_crossentropy'\n",
    "\n",
    "6. lr_rate: The learning rate. Note some of the minimization methods uses a dynamical learning rate. In such a cases this value sets the initial learning rate."
   ]
  },
  {
   "cell_type": "code",
   "execution_count": 26,
   "metadata": {},
   "outputs": [
    {
     "name": "stdout",
     "output_type": "stream",
     "text": [
      "\n",
      " training data shape:  (538, 8) \n",
      " testing data shape:  (230, 8)\n",
      "_________________________________________________________________\n",
      "Layer (type)                 Output Shape              Param #   \n",
      "=================================================================\n",
      "main_input (InputLayer)      (None, 8)                 0         \n",
      "_________________________________________________________________\n",
      "dense_13 (Dense)             (None, 14)                126       \n",
      "_________________________________________________________________\n",
      "dense_14 (Dense)             (None, 1)                 15        \n",
      "=================================================================\n",
      "Total params: 141\n",
      "Trainable params: 141\n",
      "Non-trainable params: 0\n",
      "_________________________________________________________________\n",
      "\n",
      "#############  STATISTICS for Training Data ##############\n",
      "\n",
      "Accuracy   0.7713754646840149\n",
      "Sensitivity   0.5159574468085106\n",
      "Specificity   0.9085714285714286\n",
      "Loss   0.167439073324\n",
      "\n",
      "#########################################################\n",
      "\n",
      "\n",
      "#############  STATISTICS for Validation Data ##############\n",
      "\n",
      "Accuracy   0.7782608695652173\n",
      "Sensitivity   0.5125\n",
      "Specificity   0.92\n",
      "Loss   0.163103088737\n",
      "\n",
      "#########################################################\n",
      "\n"
     ]
    },
    {
     "data": {
      "image/png": "[encoded data removed]",
      "text/plain": [
       "<matplotlib.figure.Figure at 0x7ffb18cd2e48>"
      ]
     },
     "metadata": {},
     "output_type": "display_data"
    },
    {
     "name": "stdout",
     "output_type": "stream",
     "text": [
      "CPU times: user 2.6 s, sys: 72 ms, total: 2.67 s\n",
      "Wall time: 1.94 s\n"
     ]
    }
   ],
   "source": [
    "%%time\n",
    "\n",
    "pima_t = np.loadtxt(\"pima-trn.csv\", skiprows= 1, \n",
    "                    usecols = tuple(np.arange(1,10)) ).astype(\"float32\")\n",
    "pima_v = np.loadtxt(\"pima-val.csv\", skiprows= 1,\n",
    "                    usecols = tuple(np.arange(1,10)) ).astype(\"float32\")\n",
    "\n",
    "\n",
    "x_train, d_train = pima_t[:,:8], pima_t[:,-1]\n",
    "x_val, d_val = pima_v[:,:8], pima_v[:,-1]\n",
    "\n",
    "print('\\n training data shape: ', x_train.shape, '\\n testing data shape: ',x_val.shape)\n",
    "\n",
    "# Define the network, cost function and minimization method\n",
    "INPUT = {'inp_dim': x_train.shape[1],         \n",
    "         'n_nod': [14],                      # number of nodes in hidden layer\n",
    "         'act_fun': 'linear',                 # activation functions for the hidden layer\n",
    "         'out_act_fun': 'linear',          # output activation function\n",
    "         'opt_method': 'adam',               # minimization method\n",
    "         'cost_fun': 'mse', # error function\n",
    "         'lr_rate': 0.03                    # learningrate\n",
    "        }\n",
    "       \n",
    "# Get the model\n",
    "model = pipline(**INPUT)\n",
    "\n",
    "# Print a summary of the model\n",
    "model.summary()\n",
    "\n",
    "# Train the model\n",
    "estimator = model.fit(x_train, d_train,\n",
    "                      epochs = 1000,      # Number of epochs\n",
    "                      validation_data=(x_val, d_val),\n",
    "                      batch_size = x_train.shape[0],   # Batch size = all data (batch learning)\n",
    "                      #batch_size=132,                    # Batch size for true SGD\n",
    "                      verbose = 0)\n",
    "\n",
    "##############################################################################\n",
    "# Call the stats function to print out statistics for classification problems\n",
    "stats_class(x_train, d_train, 'Training', model)\n",
    "stats_class(x_val, d_val, 'Validation', model)\n",
    "\n",
    "# Plot the learning curves\n",
    "plt.plot(estimator.history['loss'])\n",
    "plt.plot(estimator.history['val_loss'])\n",
    "plt.title('Model training')\n",
    "plt.ylabel('training error')\n",
    "plt.xlabel('epoch')\n",
    "plt.legend(['train', 'validation'], loc=0)\n",
    "plt.show()"
   ]
  },
  {
   "cell_type": "markdown",
   "metadata": {},
   "source": [
    "### Example 2\n",
    "\n",
    "Make sure you have **mnist.npy** file and this notebook in the same directory."
   ]
  },
  {
   "cell_type": "code",
   "execution_count": 27,
   "metadata": {
    "collapsed": true
   },
   "outputs": [],
   "source": [
    "def loadMNIST():\n",
    "    xtrain, ytrain, xtest, ytest = np.load(\"mnist.npy\")\n",
    "    width, height = xtrain.shape[1:3]\n",
    "    return xtrain, ytrain, xtest, ytest, width, height"
   ]
  },
  {
   "cell_type": "code",
   "execution_count": 28,
   "metadata": {
    "collapsed": true
   },
   "outputs": [],
   "source": [
    "def binary_pred_stats(ytrue, ypred, threshold=0.5):\n",
    "    one_correct = np.sum((ytrue==1)*(ypred > threshold))\n",
    "    zero_correct = np.sum((ytrue==0)*(ypred <= threshold))\n",
    "    sensitivity = one_correct / np.sum(ytrue==1)\n",
    "    specificity = zero_correct / np.sum(ytrue==0)\n",
    "    accuracy = (one_correct + zero_correct) / len(ytrue)\n",
    "    return sensitivity, specificity, accuracy"
   ]
  },
  {
   "cell_type": "markdown",
   "metadata": {},
   "source": [
    "In the cell below CNN model is been trained over MNIST data set."
   ]
  },
  {
   "cell_type": "code",
   "execution_count": 29,
   "metadata": {},
   "outputs": [
    {
     "name": "stdout",
     "output_type": "stream",
     "text": [
      "_________________________________________________________________\n",
      "Layer (type)                 Output Shape              Param #   \n",
      "=================================================================\n",
      "conv2d_5 (Conv2D)            (None, 26, 26, 3)         30        \n",
      "_________________________________________________________________\n",
      "max_pooling2d_5 (MaxPooling2 (None, 13, 13, 3)         0         \n",
      "_________________________________________________________________\n",
      "conv2d_6 (Conv2D)            (None, 11, 11, 2)         56        \n",
      "_________________________________________________________________\n",
      "max_pooling2d_6 (MaxPooling2 (None, 5, 5, 2)           0         \n",
      "_________________________________________________________________\n",
      "flatten_3 (Flatten)          (None, 50)                0         \n",
      "_________________________________________________________________\n",
      "dense_15 (Dense)             (None, 5)                 255       \n",
      "_________________________________________________________________\n",
      "dense_16 (Dense)             (None, 1)                 6         \n",
      "_________________________________________________________________\n",
      "activation_3 (Activation)    (None, 1)                 0         \n",
      "=================================================================\n",
      "Total params: 347\n",
      "Trainable params: 347\n",
      "Non-trainable params: 0\n",
      "_________________________________________________________________\n"
     ]
    },
    {
     "data": {
      "image/png": "[encoded data removed]",
      "text/plain": [
       "<matplotlib.figure.Figure at 0x7ffb1868b550>"
      ]
     },
     "metadata": {},
     "output_type": "display_data"
    },
    {
     "name": "stdout",
     "output_type": "stream",
     "text": [
      "train set: 1.0 0.999 0.9995\n",
      "test set:  0.991089108911 0.982558139535 0.986777668952\n"
     ]
    }
   ],
   "source": [
    "# To load parts of the MNIST database\n",
    "xtrain, ytrain, xtest, ytest, width, height = loadMNIST()\n",
    "\n",
    "# The size of the images\n",
    "input_shape = (width, height, 1)\n",
    "\n",
    "\"\"\"\n",
    "conv2D (a,b,c)\n",
    "    a = number of hidden nodes\n",
    "    b = size of matrix (usually n X n)\n",
    "    c = type of activation function e.g. relu, sigmoid, linear etc.\n",
    "    \n",
    "MaxPooling2D (d)\n",
    "    d = size of maxpooling matrix (usually 2 X 2)\n",
    "\"\"\"\n",
    "\n",
    "# Define the CNN model\n",
    "model = Sequential([\n",
    "    Conv2D(3, kernel_size=(3, 3),\n",
    "           activation='relu',input_shape=input_shape),\n",
    "    MaxPooling2D(pool_size=(2, 2)),\n",
    "    Conv2D(2, kernel_size=(3, 3), activation='relu'),\n",
    "    MaxPooling2D(pool_size=(2, 2)),\n",
    "   # Conv2D(2, kernel_size=(3, 3), activation='relu'),\n",
    "   # MaxPooling2D(pool_size=(2, 2)),\n",
    "    Flatten(),\n",
    "    Dense(5, activation='relu'),\n",
    "    #Dropout(0.5),\n",
    "    Dense(1),\n",
    "    Activation('sigmoid')\n",
    "])\n",
    "\n",
    "# We use cross entropy error and the adam optimizer\n",
    "adam = Adam(lr=0.005)\n",
    "model.compile(loss='binary_crossentropy', optimizer=adam, metrics=['accuracy'])\n",
    "model.summary()\n",
    "\n",
    "\n",
    "# Now train the model\n",
    "estimator = model.fit(xtrain, ytrain, \n",
    "                      epochs=50, \n",
    "                      batch_size=50,\n",
    "                      verbose=0)\n",
    "\n",
    "# Plot the training error\n",
    "plt.plot(estimator.history['loss'])\n",
    "plt.title('Model training')\n",
    "plt.ylabel('training error')\n",
    "plt.xlabel('epoch')\n",
    "plt.legend(['train'], loc=0)\n",
    "plt.show()\n",
    "\n",
    "# Get the training predictions and results for those\n",
    "predtrain = model.predict(xtrain)[:,0]\n",
    "sensitivity, specificity, accuracy = binary_pred_stats(ytrain, predtrain)\n",
    "print(\"train set:\", sensitivity, specificity, accuracy)\n",
    "\n",
    "# Get the test predictions and the results for those\n",
    "predtest = model.predict(xtest)[:,0]\n",
    "sensitivity, specificity, accuracy = binary_pred_stats(ytest, predtest)\n",
    "print(\"test set: \", sensitivity, specificity, accuracy)\n"
   ]
  },
  {
   "cell_type": "markdown",
   "metadata": {},
   "source": [
    "We trained our network in the cell above. By running cell below output will show what different convolution nodes in each layer sees from the input. If user runs the cell multiple times, he/she can observe that position of nodes fetching different features of the input varies randomly. It is just to get feeling of how different nodes learn about various properties of the input. For more detailed understanding user is suggested to follow hyper-link of **CNN**."
   ]
  },
  {
   "cell_type": "code",
   "execution_count": 30,
   "metadata": {},
   "outputs": [
    {
     "name": "stdout",
     "output_type": "stream",
     "text": [
      "1.0\n"
     ]
    },
    {
     "data": {
      "text/plain": [
       "<matplotlib.figure.Figure at 0x7ffb10a05080>"
      ]
     },
     "metadata": {},
     "output_type": "display_data"
    },
    {
     "data": {
      "image/png": "[encoded data removed]",
      "text/plain": [
       "<matplotlib.figure.Figure at 0x7ffb271b96a0>"
      ]
     },
     "metadata": {},
     "output_type": "display_data"
    },
    {
     "data": {
      "image/png": "[encoded data removed]",
      "text/plain": [
       "<matplotlib.figure.Figure at 0x7ffb10cee828>"
      ]
     },
     "metadata": {},
     "output_type": "display_data"
    },
    {
     "data": {
      "image/png": "[encoded data removed]",
      "text/plain": [
       "<matplotlib.figure.Figure at 0x7ffb10c70a90>"
      ]
     },
     "metadata": {},
     "output_type": "display_data"
    }
   ],
   "source": [
    "# if True then Maxpooling will be applied before showing the filter\n",
    "post_pool = False\n",
    "#post_pool = True\n",
    "\n",
    "# The image index to show\n",
    "#idx = 8 # number 2\n",
    "#idx = 11 # number 3\n",
    "idx = 2 # number 3\n",
    "#idx = 21 # number 2\n",
    "\n",
    "kind = MaxPooling2D if post_pool else Conv2D\n",
    "outs = [model.layers[0].input] + [l.output for l in model.layers if isinstance(l, kind)]\n",
    "intermediate = K.function([model.layers[0].input, K.learning_phase()], outs)\n",
    "print(ytest[idx])\n",
    "states = intermediate([xtest[idx:idx+1], 0])\n",
    "plt.figure(figsize=(18,12))                    \n",
    "for k,s in enumerate(states):\n",
    "    plt.figure(figsize=(18,12))\n",
    "    plt.subplot(len(outs),1,k+1)\n",
    "    pics = s[0]\n",
    "    pics = np.rollaxis(pics,2,0)\n",
    "    rows = 2 if pics.shape[0] > 8 else 1\n",
    "    cols = pics.shape[0]//rows\n",
    "    imgshape = pics.shape[1:]\n",
    "    pics = pics.reshape((rows,cols)+imgshape)\n",
    "    pics = pics.swapaxes(1,2)\n",
    "    pics = pics.reshape((pics.shape[0]*pics.shape[1], pics.shape[2]*pics.shape[3]))\n",
    "    extent = (0,cols*imgshape[0], 0,rows*imgshape[1])\n",
    "    plt.imshow(pics,cmap='gray',extent=extent)\n",
    "    for r in range(1,rows):\n",
    "        plt.plot([0,cols*imgshape[0]], [r*imgshape[1], r*imgshape[1]], color='r', linestyle='-', linewidth=1)\n",
    "    for c in range(1,cols):\n",
    "        plt.plot([c*imgshape[0], c*imgshape[0]], [0,rows*imgshape[1]], color='r', linestyle='-', linewidth=1)"
   ]
  },
  {
   "cell_type": "markdown",
   "metadata": {
    "collapsed": true
   },
   "source": [
    "### References\n",
    "* Text and examples are inspired from ANN course of department of theoretical physics, Lund University\n",
    "\n",
    "### Further Reading and useful websites\n",
    "* Various web-links are set in the notebook whenever a new term is introduced"
   ]
  }
 ],
 "metadata": {
  "kernelspec": {
   "display_name": "Python 3",
   "language": "python",
   "name": "python3"
  },
  "language_info": {
   "codemirror_mode": {
    "name": "ipython",
    "version": 3
   },
   "file_extension": ".py",
   "mimetype": "text/x-python",
   "name": "python",
   "nbconvert_exporter": "python",
   "pygments_lexer": "ipython3",
   "version": "3.6.3"
  }
 },
 "nbformat": 4,
 "nbformat_minor": 2
}
